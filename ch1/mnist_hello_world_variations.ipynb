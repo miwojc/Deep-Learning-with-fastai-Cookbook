{
  "nbformat": 4,
  "nbformat_minor": 0,
  "metadata": {
    "jupytext": {
      "split_at_heading": true
    },
    "kernelspec": {
      "display_name": "Python 3",
      "language": "python",
      "name": "python3"
    },
    "language_info": {
      "codemirror_mode": {
        "name": "ipython",
        "version": 3
      },
      "file_extension": ".py",
      "mimetype": "text/x-python",
      "name": "python",
      "nbconvert_exporter": "python",
      "pygments_lexer": "ipython3",
      "version": "3.8.6"
    },
    "colab": {
      "name": "mnist_hello_world_variations.ipynb",
      "provenance": []
    },
    "accelerator": "GPU"
  },
  "cells": [
    {
      "cell_type": "markdown",
      "metadata": {
        "id": "AzEB5GNOJPwx"
      },
      "source": [
        "# Deep learning with fast.ai cookbook - MNIST \"hello world\" example\n",
        "Minimal example using the MNIST dataset to demonstrate a minimimal, \"hello world\" type fast.ai application.\n",
        "\n",
        "Here are the fastai curated dataset choices for MNIST:\n",
        "\n",
        "**MNIST_SAMPLE**:  3s and 7s only\n",
        "~~~\n",
        "|-- train\n",
        "|   |-- 3\n",
        "|   `-- 7\n",
        "`-- valid\n",
        "    |-- 3\n",
        "    `-- 7\n",
        "~~~\n",
        "\n",
        "**MNIST_TINY**:  3s and 7s only\n",
        "~~~\n",
        "|-- models\n",
        "|-- test\n",
        "|-- train\n",
        "|   |-- 3\n",
        "|   `-- 7\n",
        "`-- valid\n",
        "    |-- 3\n",
        "    `-- 7\n",
        "~~~\n",
        "\n",
        "**MNIST_VAR_SIZE_TINY**:  3s and 7s only\n",
        "~~~\n",
        "|-- models\n",
        "|-- test\n",
        "|-- train\n",
        "|   |-- 3\n",
        "|   `-- 7\n",
        "`-- valid\n",
        "    |-- 3\n",
        "    `-- 7\n",
        "~~~\n",
        "\n",
        "**MNIST**: complete dataset\n",
        "~~~\n",
        "|-- testing\n",
        "|   |-- 0\n",
        "|   |-- 1\n",
        "|   |-- 2\n",
        "|   |-- 3\n",
        "|   |-- 4\n",
        "|   |-- 5\n",
        "|   |-- 6\n",
        "|   |-- 7\n",
        "|   |-- 8\n",
        "|   `-- 9\n",
        "`-- training\n",
        "    |-- 0\n",
        "    |-- 1\n",
        "    |-- 2\n",
        "    |-- 3\n",
        "    |-- 4\n",
        "    |-- 5\n",
        "    |-- 6\n",
        "    |-- 7\n",
        "    |-- 8\n",
        "    `-- 9\n",
        "~~~\n"
      ]
    },
    {
      "cell_type": "code",
      "metadata": {
        "id": "HiMKMPsWJPw0"
      },
      "source": [
        "# imports for notebook boilerplate\n",
        "!pip install -Uqq fastbook\n",
        "import fastbook\n",
        "from fastbook import *\n",
        "from fastai.vision.all import *\n"
      ],
      "execution_count": 21,
      "outputs": []
    },
    {
      "cell_type": "code",
      "metadata": {
        "id": "rc5ot3f_JPw1"
      },
      "source": [
        "# set up the notebook for fast.ai\n",
        "fastbook.setup_book()"
      ],
      "execution_count": 22,
      "outputs": []
    },
    {
      "cell_type": "code",
      "metadata": {
        "id": "1zYtBlLZJPw1"
      },
      "source": [
        "# In Gradient, datasets get saved in /storage/data when untar_data is called \n",
        "# if the dataset has not been copied there already\n",
        "path = untar_data(URLs.MNIST_SAMPLE)"
      ],
      "execution_count": 23,
      "outputs": []
    },
    {
      "cell_type": "code",
      "metadata": {
        "colab": {
          "base_uri": "https://localhost:8080/"
        },
        "id": "jXhXqTOPJPw1",
        "outputId": "7eb1aba1-55db-4249-92ae-a3e8fb80a1a8"
      },
      "source": [
        "# examine the directory structure of the dataset\n",
        "path.ls()"
      ],
      "execution_count": 24,
      "outputs": [
        {
          "output_type": "execute_result",
          "data": {
            "text/plain": [
              "(#3) [Path('/root/.fastai/data/mnist_sample/valid'),Path('/root/.fastai/data/mnist_sample/labels.csv'),Path('/root/.fastai/data/mnist_sample/train')]"
            ]
          },
          "metadata": {
            "tags": []
          },
          "execution_count": 24
        }
      ]
    },
    {
      "cell_type": "code",
      "metadata": {
        "colab": {
          "base_uri": "https://localhost:8080/",
          "height": 80
        },
        "id": "ty2nw-J8JPw2",
        "outputId": "040b4910-6daf-4b21-bdb7-c160a32ca836"
      },
      "source": [
        "# create an image dataloaders object using the path\n",
        "# note that because of the directory structure of the dataset \n",
        "# the train and valid sets have to be explicitly specified\n",
        "# details here: https://github.com/fastai/fastai/issues/1129\n",
        "dls = ImageDataLoaders.from_folder(path, train='train', valid='valid')\n",
        "# create a learner object using the dataloaders that was just defined\n",
        "# architecture is resnet18; see https://pytorch.org/hub/pytorch_vision_resnet/\n",
        "# loss function is selected for multi class classification\n",
        "# accuracy is the metric used to optimize\n",
        "learn = cnn_learner(dls, resnet18, pretrained=False,\n",
        "                    loss_func=LabelSmoothingCrossEntropy(), metrics=accuracy)\n",
        "# fit the model for one epoch using 1cycle policy\n",
        "# see https://docs.fast.ai/callback.schedule.html#Learner.fit_one_cycle\n",
        "learn.fit_one_cycle(1, 0.1)\n",
        "\n"
      ],
      "execution_count": 25,
      "outputs": [
        {
          "output_type": "display_data",
          "data": {
            "text/html": [
              "<table border=\"1\" class=\"dataframe\">\n",
              "  <thead>\n",
              "    <tr style=\"text-align: left;\">\n",
              "      <th>epoch</th>\n",
              "      <th>train_loss</th>\n",
              "      <th>valid_loss</th>\n",
              "      <th>accuracy</th>\n",
              "      <th>time</th>\n",
              "    </tr>\n",
              "  </thead>\n",
              "  <tbody>\n",
              "    <tr>\n",
              "      <td>0</td>\n",
              "      <td>0.259515</td>\n",
              "      <td>0.206229</td>\n",
              "      <td>0.996075</td>\n",
              "      <td>00:15</td>\n",
              "    </tr>\n",
              "  </tbody>\n",
              "</table>"
            ],
            "text/plain": [
              "<IPython.core.display.HTML object>"
            ]
          },
          "metadata": {
            "tags": []
          }
        }
      ]
    },
    {
      "cell_type": "code",
      "metadata": {
        "colab": {
          "base_uri": "https://localhost:8080/",
          "height": 192
        },
        "id": "BmncNXxQJPw3",
        "outputId": "4e469739-e885-4c2c-fe24-1aff6318852c"
      },
      "source": [
        "# show a batch of training data\n",
        "dls.train.show_batch(max_n=4, nrows=1)\n"
      ],
      "execution_count": 26,
      "outputs": [
        {
          "output_type": "display_data",
          "data": {
            "image/png": "[encoded data removed]",
            "text/plain": [
              "<Figure size 864x216 with 4 Axes>"
            ]
          },
          "metadata": {
            "tags": [],
            "needs_background": "light"
          }
        }
      ]
    },
    {
      "cell_type": "code",
      "metadata": {
        "colab": {
          "base_uri": "https://localhost:8080/",
          "height": 192
        },
        "id": "_6qzKJqoJPw3",
        "outputId": "6e08c5dd-9284-459c-cff7-8786cfae1fdb"
      },
      "source": [
        "# show a batch of validation data\n",
        "dls.valid.show_batch(max_n=4, nrows=1)"
      ],
      "execution_count": 27,
      "outputs": [
        {
          "output_type": "display_data",
          "data": {
            "image/png": "[encoded data removed]",
            "text/plain": [
              "<Figure size 864x216 with 4 Axes>"
            ]
          },
          "metadata": {
            "tags": [],
            "needs_background": "light"
          }
        }
      ]
    },
    {
      "cell_type": "code",
      "metadata": {
        "id": "1otJtdEXK9nJ"
      },
      "source": [
        "# take a look at one of the test images\n",
        "img_files = get_image_files(path/\"valid\")"
      ],
      "execution_count": 28,
      "outputs": []
    },
    {
      "cell_type": "code",
      "metadata": {
        "colab": {
          "base_uri": "https://localhost:8080/"
        },
        "id": "-4evhxi1K_xX",
        "outputId": "62ee5d7a-8125-4e2f-9821-a024ef6f3a1c"
      },
      "source": [
        "img_files"
      ],
      "execution_count": 29,
      "outputs": [
        {
          "output_type": "execute_result",
          "data": {
            "text/plain": [
              "(#2038) [Path('/root/.fastai/data/mnist_sample/valid/3/3448.png'),Path('/root/.fastai/data/mnist_sample/valid/3/648.png'),Path('/root/.fastai/data/mnist_sample/valid/3/4164.png'),Path('/root/.fastai/data/mnist_sample/valid/3/1317.png'),Path('/root/.fastai/data/mnist_sample/valid/3/5212.png'),Path('/root/.fastai/data/mnist_sample/valid/3/2927.png'),Path('/root/.fastai/data/mnist_sample/valid/3/4983.png'),Path('/root/.fastai/data/mnist_sample/valid/3/3078.png'),Path('/root/.fastai/data/mnist_sample/valid/3/8430.png'),Path('/root/.fastai/data/mnist_sample/valid/3/6065.png')...]"
            ]
          },
          "metadata": {
            "tags": []
          },
          "execution_count": 29
        }
      ]
    },
    {
      "cell_type": "code",
      "metadata": {
        "colab": {
          "base_uri": "https://localhost:8080/",
          "height": 45
        },
        "id": "RgjLjwwnJPw4",
        "outputId": "f07e89b2-b92b-4139-a602-20cb2ca33a5f"
      },
      "source": [
        "img = PILImage.create(img_files[2037])\n",
        "img\n"
      ],
      "execution_count": 30,
      "outputs": [
        {
          "output_type": "execute_result",
          "data": {
            "image/png": "[encoded data removed]",
            "text/plain": [
              "PILImage mode=RGB size=28x28"
            ]
          },
          "metadata": {
            "tags": []
          },
          "execution_count": 30
        }
      ]
    },
    {
      "cell_type": "code",
      "metadata": {
        "colab": {
          "base_uri": "https://localhost:8080/",
          "height": 207
        },
        "id": "GJAmyR0HJPw4",
        "outputId": "36525964-d3fc-46ac-b4ee-103f14ef2586"
      },
      "source": [
        "# show the images with the highest loss\n",
        "interp = ClassificationInterpretation.from_learner(learn)\n",
        "interp.plot_top_losses(4, nrows=1)\n"
      ],
      "execution_count": 31,
      "outputs": [
        {
          "output_type": "display_data",
          "data": {
            "text/html": [
              ""
            ],
            "text/plain": [
              "<IPython.core.display.HTML object>"
            ]
          },
          "metadata": {
            "tags": []
          }
        },
        {
          "output_type": "display_data",
          "data": {
            "image/png": "[encoded data removed]",
            "text/plain": [
              "<Figure size 864x216 with 4 Axes>"
            ]
          },
          "metadata": {
            "tags": [],
            "needs_background": "light"
          }
        }
      ]
    },
    {
      "cell_type": "code",
      "metadata": {
        "colab": {
          "base_uri": "https://localhost:8080/",
          "height": 1000
        },
        "id": "-MPmOOruJPw4",
        "outputId": "e3d54ab5-cbe0-4811-9a1e-dff79fad0302"
      },
      "source": [
        "# examine the model, including its layers\n",
        "learn.summary()"
      ],
      "execution_count": 32,
      "outputs": [
        {
          "output_type": "display_data",
          "data": {
            "text/html": [
              ""
            ],
            "text/plain": [
              "<IPython.core.display.HTML object>"
            ]
          },
          "metadata": {
            "tags": []
          }
        },
        {
          "output_type": "execute_result",
          "data": {
            "application/vnd.google.colaboratory.intrinsic+json": {
              "type": "string"
            },
            "text/plain": [
              "Sequential (Input shape: 64)\n",
              "============================================================================\n",
              "Layer (type)         Output Shape         Param #    Trainable \n",
              "============================================================================\n",
              "                     64 x 64 x 14 x 14   \n",
              "Conv2d                                    9408       True      \n",
              "BatchNorm2d                               128        True      \n",
              "ReLU                                                           \n",
              "MaxPool2d                                                      \n",
              "Conv2d                                    36864      True      \n",
              "BatchNorm2d                               128        True      \n",
              "ReLU                                                           \n",
              "Conv2d                                    36864      True      \n",
              "BatchNorm2d                               128        True      \n",
              "Conv2d                                    36864      True      \n",
              "BatchNorm2d                               128        True      \n",
              "ReLU                                                           \n",
              "Conv2d                                    36864      True      \n",
              "BatchNorm2d                               128        True      \n",
              "____________________________________________________________________________\n",
              "                     64 x 128 x 4 x 4    \n",
              "Conv2d                                    73728      True      \n",
              "BatchNorm2d                               256        True      \n",
              "ReLU                                                           \n",
              "Conv2d                                    147456     True      \n",
              "BatchNorm2d                               256        True      \n",
              "Conv2d                                    8192       True      \n",
              "BatchNorm2d                               256        True      \n",
              "Conv2d                                    147456     True      \n",
              "BatchNorm2d                               256        True      \n",
              "ReLU                                                           \n",
              "Conv2d                                    147456     True      \n",
              "BatchNorm2d                               256        True      \n",
              "____________________________________________________________________________\n",
              "                     64 x 256 x 2 x 2    \n",
              "Conv2d                                    294912     True      \n",
              "BatchNorm2d                               512        True      \n",
              "ReLU                                                           \n",
              "Conv2d                                    589824     True      \n",
              "BatchNorm2d                               512        True      \n",
              "Conv2d                                    32768      True      \n",
              "BatchNorm2d                               512        True      \n",
              "Conv2d                                    589824     True      \n",
              "BatchNorm2d                               512        True      \n",
              "ReLU                                                           \n",
              "Conv2d                                    589824     True      \n",
              "BatchNorm2d                               512        True      \n",
              "____________________________________________________________________________\n",
              "                     64 x 512 x 1 x 1    \n",
              "Conv2d                                    1179648    True      \n",
              "BatchNorm2d                               1024       True      \n",
              "ReLU                                                           \n",
              "Conv2d                                    2359296    True      \n",
              "BatchNorm2d                               1024       True      \n",
              "Conv2d                                    131072     True      \n",
              "BatchNorm2d                               1024       True      \n",
              "Conv2d                                    2359296    True      \n",
              "BatchNorm2d                               1024       True      \n",
              "ReLU                                                           \n",
              "Conv2d                                    2359296    True      \n",
              "BatchNorm2d                               1024       True      \n",
              "AdaptiveAvgPool2d                                              \n",
              "AdaptiveMaxPool2d                                              \n",
              "Flatten                                                        \n",
              "BatchNorm1d                               2048       True      \n",
              "Dropout                                                        \n",
              "____________________________________________________________________________\n",
              "                     64 x 512            \n",
              "Linear                                    524288     True      \n",
              "ReLU                                                           \n",
              "BatchNorm1d                               1024       True      \n",
              "Dropout                                                        \n",
              "____________________________________________________________________________\n",
              "                     64 x 2              \n",
              "Linear                                    1024       True      \n",
              "____________________________________________________________________________\n",
              "\n",
              "Total params: 11,704,896\n",
              "Total trainable params: 11,704,896\n",
              "Total non-trainable params: 0\n",
              "\n",
              "Optimizer used: <function Adam at 0x7f58ed7fce60>\n",
              "Loss function: LabelSmoothingCrossEntropy()\n",
              "\n",
              "Model unfrozen\n",
              "\n",
              "Callbacks:\n",
              "  - TrainEvalCallback\n",
              "  - Recorder\n",
              "  - ProgressCallback"
            ]
          },
          "metadata": {
            "tags": []
          },
          "execution_count": 32
        }
      ]
    },
    {
      "cell_type": "code",
      "metadata": {
        "colab": {
          "base_uri": "https://localhost:8080/",
          "height": 45
        },
        "id": "CLB1M9vLJPw5",
        "outputId": "e38d2792-a1d8-4dfc-d7e3-6ce79072206e"
      },
      "source": [
        "# select an image from the test set\n",
        "img = PILImage.create(img_files[0])\n",
        "img"
      ],
      "execution_count": 33,
      "outputs": [
        {
          "output_type": "execute_result",
          "data": {
            "image/png": "[encoded data removed]",
            "text/plain": [
              "PILImage mode=RGB size=28x28"
            ]
          },
          "metadata": {
            "tags": []
          },
          "execution_count": 33
        }
      ]
    },
    {
      "cell_type": "code",
      "metadata": {
        "colab": {
          "base_uri": "https://localhost:8080/",
          "height": 34
        },
        "id": "DTfDs6J2JPw5",
        "outputId": "d0f268e7-8fb0-479b-ba81-539a11c7285f"
      },
      "source": [
        "# apply the trained model to the image\n",
        "learn.predict(img)"
      ],
      "execution_count": 34,
      "outputs": [
        {
          "output_type": "display_data",
          "data": {
            "text/html": [
              ""
            ],
            "text/plain": [
              "<IPython.core.display.HTML object>"
            ]
          },
          "metadata": {
            "tags": []
          }
        },
        {
          "output_type": "execute_result",
          "data": {
            "text/plain": [
              "('3', tensor(0), tensor([0.9526, 0.0474]))"
            ]
          },
          "metadata": {
            "tags": []
          },
          "execution_count": 34
        }
      ]
    },
    {
      "cell_type": "code",
      "metadata": {
        "colab": {
          "base_uri": "https://localhost:8080/",
          "height": 45
        },
        "id": "6dbl0Qy7JPw5",
        "outputId": "a0da3532-1ac9-4dfd-bdd6-36833dd93e5b"
      },
      "source": [
        "# select a different test set image and apply the model to it to get a prediction\n",
        "img = PILImage.create(img_files[1015])\n",
        "img"
      ],
      "execution_count": 35,
      "outputs": [
        {
          "output_type": "execute_result",
          "data": {
            "image/png": "[encoded data removed]",
            "text/plain": [
              "PILImage mode=RGB size=28x28"
            ]
          },
          "metadata": {
            "tags": []
          },
          "execution_count": 35
        }
      ]
    },
    {
      "cell_type": "code",
      "metadata": {
        "colab": {
          "base_uri": "https://localhost:8080/",
          "height": 34
        },
        "id": "sFkT7d-oJPw6",
        "outputId": "17a2a932-d8ed-4292-82d4-05b82ddd0fa0"
      },
      "source": [
        "learn.predict(img)"
      ],
      "execution_count": 36,
      "outputs": [
        {
          "output_type": "display_data",
          "data": {
            "text/html": [
              ""
            ],
            "text/plain": [
              "<IPython.core.display.HTML object>"
            ]
          },
          "metadata": {
            "tags": []
          }
        },
        {
          "output_type": "execute_result",
          "data": {
            "text/plain": [
              "('7', tensor(1), tensor([0.0556, 0.9444]))"
            ]
          },
          "metadata": {
            "tags": []
          },
          "execution_count": 36
        }
      ]
    },
    {
      "cell_type": "code",
      "metadata": {
        "colab": {
          "base_uri": "https://localhost:8080/",
          "height": 45
        },
        "id": "DBmaVM6uJPw6",
        "outputId": "2c54d3ad-480b-4f08-ff6c-2cfc504cb2c1"
      },
      "source": [
        "# select a different image and apply the model to it to get a prediction\n",
        "img = PILImage.create(img_files[555])\n",
        "img"
      ],
      "execution_count": 37,
      "outputs": [
        {
          "output_type": "execute_result",
          "data": {
            "image/png": "[encoded data removed]",
            "text/plain": [
              "PILImage mode=RGB size=28x28"
            ]
          },
          "metadata": {
            "tags": []
          },
          "execution_count": 37
        }
      ]
    },
    {
      "cell_type": "code",
      "metadata": {
        "colab": {
          "base_uri": "https://localhost:8080/",
          "height": 34
        },
        "id": "S0nDOXpBJPw6",
        "outputId": "1878e388-8ebd-4bc4-d7a9-e64b27e8e5cb"
      },
      "source": [
        "learn.predict(img)"
      ],
      "execution_count": 38,
      "outputs": [
        {
          "output_type": "display_data",
          "data": {
            "text/html": [
              ""
            ],
            "text/plain": [
              "<IPython.core.display.HTML object>"
            ]
          },
          "metadata": {
            "tags": []
          }
        },
        {
          "output_type": "execute_result",
          "data": {
            "text/plain": [
              "('3', tensor(0), tensor([0.9560, 0.0440]))"
            ]
          },
          "metadata": {
            "tags": []
          },
          "execution_count": 38
        }
      ]
    },
    {
      "cell_type": "code",
      "metadata": {
        "id": "0YhpmcnDLRkw"
      },
      "source": [
        ""
      ],
      "execution_count": 38,
      "outputs": []
    }
  ]
}